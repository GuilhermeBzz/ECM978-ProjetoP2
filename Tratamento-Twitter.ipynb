{
 "cells": [
  {
   "cell_type": "code",
   "execution_count": 1,
   "metadata": {},
   "outputs": [],
   "source": [
    "import pandas as pd\n",
    "import json\n",
    "\n",
    "caminho_arquivo = 'D:\\VSCode\\dados\\data.csv'\n",
    "\n",
    "dados = pd.read_csv(caminho_arquivo, on_bad_lines='skip', sep=',(?=\\S)', engine='python')\n",
    "\n",
    "# Tirando as aspas\n",
    "\n",
    "def delete_quotes(x):\n",
    "    return x[1:-1]\n",
    "for column in [\"id\", \"screenName\", \"avatar\", \"lang\", \"tweetId\"]:\n",
    "    dados[column] = dados[column].apply(delete_quotes)\n",
    "    \n",
    "for column in [\"tags\", \"friends\"]:\n",
    "    dados[column] = dados[column].apply(lambda x: json.loads(x))\n",
    "\n",
    "# Dropando colunas inuteis\n",
    "dados = dados.drop(columns=[\"avatar\", \"followersCount\", \"friendsCount\", \"lang\", \"lastSeen\", \"tweetId\"])"
   ]
  },
  {
   "cell_type": "code",
   "execution_count": 23,
   "metadata": {},
   "outputs": [],
   "source": [
    "# Cortando somente 1000 entradas do dataset\n",
    "\n",
    "# Verificar o número total de linhas do dataset\n",
    "total_linhas = len(dados)\n",
    "\n",
    "# Definir o número desejado de linhas a serem mantidas\n",
    "n_linhas_desejadas = 1000\n",
    "\n",
    "# Verificar se o número desejado de linhas é menor que o número total de linhas\n",
    "if n_linhas_desejadas < total_linhas:\n",
    "    # Determinar o número de linhas que serão removidas\n",
    "    n_linhas_removidas = total_linhas - n_linhas_desejadas\n",
    "\n",
    "    # Remover as linhas aleatoriamente\n",
    "    dados = dados.sample(n=n_linhas_desejadas, random_state=42)"
   ]
  },
  {
   "cell_type": "code",
   "execution_count": 2,
   "metadata": {},
   "outputs": [],
   "source": [
    "# Pegando menos usuarios para agilizar\n",
    "df_reduzido = dados.head(100)\n",
    "\n",
    "# Encontre todos os IDs de amigos\n",
    "all_friends = set()\n",
    "for friends in df_reduzido['friends']:\n",
    "    all_friends.update(set(friends))\n",
    "\n",
    "# Crie um dicionário para contar a ocorrência de cada ID de amigo\n",
    "friend_counts = {friend: 0 for friend in all_friends}\n",
    "for friends in df_reduzido['friends']:\n",
    "    for friend in friends:\n",
    "        friend_counts[friend] += 1\n",
    "\n",
    "# Remova os IDs de amigos que não estão presentes em outras listas de amigos\n",
    "def remove_unique_friends(friends):\n",
    "    return [friend for friend in friends if friend_counts[friend] > 1]\n",
    "\n",
    "df_copy = df_reduzido.copy()\n",
    "\n",
    "df_copy['friends'] = df_copy['friends'].apply(remove_unique_friends)\n",
    "\n",
    "# Remova os usuários que não têm amigos em comum com pelo menos um outro usuário\n",
    "df_copy = df_copy.loc[df_copy['friends'].apply(lambda x: len(x) > 0)]\n",
    "\n",
    "# Gera o CSV\n",
    "df_copy.to_csv('D:\\VSCode\\dados\\dados100.csv', index=False)"
   ]
  },
  {
   "cell_type": "code",
   "execution_count": 3,
   "metadata": {},
   "outputs": [],
   "source": [
    "# CÓDIGO PARA GERAR O CSV DE CONTAS SEGUIDAS\n",
    "\n",
    "# Cria uma lista com todos os IDs\n",
    "all_ids = []\n",
    "for friends_list in df_copy['friends']:\n",
    "    all_ids.extend(friends_list)\n",
    "\n",
    "# Remove duplicatas e cria o dataframe com a coluna 'id_follower' contendo todos os IDs\n",
    "df_id_follower = pd.DataFrame({'id_follower': list(set(all_ids))})\n",
    "\n",
    "df_id_follower.to_csv('D:\\VSCode\\dados\\dadosFollowers100.csv', index=False)"
   ]
  }
 ],
 "metadata": {
  "kernelspec": {
   "display_name": "Python 3.11.3 64-bit",
   "language": "python",
   "name": "python3"
  },
  "language_info": {
   "codemirror_mode": {
    "name": "ipython",
    "version": 3
   },
   "file_extension": ".py",
   "mimetype": "text/x-python",
   "name": "python",
   "nbconvert_exporter": "python",
   "pygments_lexer": "ipython3",
   "version": "3.11.3"
  },
  "orig_nbformat": 4,
  "vscode": {
   "interpreter": {
    "hash": "de47f5c92c0ee6f12a59a5613ac5feff6aab19ddff207ba0b3964cced08c4ccc"
   }
  }
 },
 "nbformat": 4,
 "nbformat_minor": 2
}
